{
 "cells": [
  {
   "cell_type": "code",
   "execution_count": 1,
   "metadata": {},
   "outputs": [],
   "source": [
    "from device import device\n",
    "from hit import sim_initial_hits\n",
    "from hit import sim_particle\n",
    "from main import simulate, correlate\n",
    "import matplotlib.pyplot as plt\n",
    "import numpy as np\n"
   ]
  },
  {
   "cell_type": "code",
   "execution_count": 2,
   "metadata": {},
   "outputs": [],
   "source": [
    "dut_1 = {\n",
    "    'column': 800,\n",
    "    'row': 400,\n",
    "    'column_pitch': 18.4,\n",
    "    'row_pitch': 18.4,\n",
    "    'thickness': 50,\n",
    "    'z_position': 0,\n",
    "    'delta_x': 0,\n",
    "    'delta_y': 0\n",
    "}\n",
    "\n",
    "dut_2 = {\n",
    "    'column': 800,\n",
    "    'row': 400,\n",
    "    'column_pitch': 18.4,\n",
    "    'row_pitch': 18.4,\n",
    "    'thickness': 50,\n",
    "    'z_position': 10000,\n",
    "    'delta_x': 100,\n",
    "    'delta_y': -120\n",
    "}\n",
    "\n",
    "dut_3 = {\n",
    "    'column': 800,\n",
    "    'row': 400,\n",
    "    'column_pitch': 18.4,\n",
    "    'row_pitch': 18.4,\n",
    "    'thickness': 50,\n",
    "    'z_position': 15000,\n",
    "    'delta_x': 10,\n",
    "    'delta_y': 9\n",
    "}\n",
    "\n",
    "dut_4 = {\n",
    "    'column': 800,\n",
    "    'row': 400,\n",
    "    'column_pitch': 18.4,\n",
    "    'row_pitch': 18.4,\n",
    "    'thickness': 50,\n",
    "    'z_position': 20000,\n",
    "    'delta_x': -50,\n",
    "    'delta_y': 100\n",
    "}\n",
    "\n",
    "dut_5 = {\n",
    "    'column': 800,\n",
    "    'row': 400,\n",
    "    'column_pitch': 18.4,\n",
    "    'row_pitch': 18.4,\n",
    "    'thickness': 50,\n",
    "    'z_position': 25000,\n",
    "    'delta_x': 30,\n",
    "    'delta_y': 0\n",
    "}\n",
    "\n",
    "dut_6 = {\n",
    "    'column': 380,\n",
    "    'row': 380,\n",
    "    'column_pitch': 50,\n",
    "    'row_pitch': 50,\n",
    "    'thickness': 150,\n",
    "    'z_position': 30000,\n",
    "    'delta_x': 20,\n",
    "    'delta_y': 1000\n",
    "}\n",
    "\n",
    "beam = {\n",
    "    'energy': 3000,\n",
    "    'sigma_x': 2000,\n",
    "    'sigma_y': 2000,\n",
    "    'loc_x': 0,\n",
    "    'loc_y': 0,\n",
    "    'x_disp': 0.01,\n",
    "    'y_disp': 0.01,\n",
    "    'nmb_particles': 5000\n",
    "}\n"
   ]
  },
  {
   "cell_type": "code",
   "execution_count": 3,
   "metadata": {},
   "outputs": [],
   "source": [
    "devicess = [dut_1, dut_2, dut_3, dut_4, dut_5, dut_6]\n",
    "sim = simulate()\n",
    "hit_1, hit_2, hit_3, hit_4, hit_5, hit_6 = sim.simulate_hits(devicess, beam)\n",
    "folder = '/home/rasmus/Documents/pieces of interest/output_pytestbeam/'\n",
    "\n",
    "fiel_dut_1 = device.create_hit_file(hit_1, folder, '1')\n",
    "fiel_dut_2 = device.create_hit_file(hit_2, folder, '2')\n",
    "fiel_dut_3 = device.create_hit_file(hit_3, folder, '3')\n",
    "fiel_dut_4 = device.create_hit_file(hit_4, folder, '4')\n",
    "fiel_dut_5 = device.create_hit_file(hit_5, folder, '5')\n",
    "fiel_dut_6 = device.create_hit_file(hit_6, folder, '6')\n"
   ]
  },
  {
   "cell_type": "code",
   "execution_count": 4,
   "metadata": {},
   "outputs": [],
   "source": [
    "# correlate(fiel_dut_1, fiel_dut_2, dut_1, dut_2)"
   ]
  },
  {
   "cell_type": "code",
   "execution_count": 5,
   "metadata": {},
   "outputs": [],
   "source": [
    "# correlate(fiel_dut_1, fiel_dut_3, dut_1, dut_3)"
   ]
  },
  {
   "cell_type": "code",
   "execution_count": null,
   "metadata": {},
   "outputs": [],
   "source": []
  }
 ],
 "metadata": {
  "kernelspec": {
   "display_name": "master",
   "language": "python",
   "name": "python3"
  },
  "language_info": {
   "codemirror_mode": {
    "name": "ipython",
    "version": 3
   },
   "file_extension": ".py",
   "mimetype": "text/x-python",
   "name": "python",
   "nbconvert_exporter": "python",
   "pygments_lexer": "ipython3",
   "version": "3.11.5"
  }
 },
 "nbformat": 4,
 "nbformat_minor": 2
}
