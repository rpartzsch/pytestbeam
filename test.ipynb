{
 "cells": [
  {
   "cell_type": "code",
   "execution_count": 1,
   "metadata": {},
   "outputs": [],
   "source": [
    "from device import device\n",
    "from hit import sim_initial_hits\n",
    "from hit import sim_particle\n",
    "from main import simulate\n",
    "import matplotlib.pyplot as plt\n",
    "import numpy as np"
   ]
  },
  {
   "cell_type": "code",
   "execution_count": 2,
   "metadata": {},
   "outputs": [],
   "source": [
    "dut_1 = {\n",
    "    'column': 100,\n",
    "    'row': 100,\n",
    "    'column_pitch': 50,\n",
    "    'row_pitch': 50,\n",
    "    'thickness': 50,\n",
    "    'z_position': 0\n",
    "}\n",
    "\n",
    "dut_2 = {\n",
    "    'column': 100,\n",
    "    'row': 100,\n",
    "    'column_pitch': 50,\n",
    "    'row_pitch': 50,\n",
    "    'thickness': 50,\n",
    "    'z_position': 10000\n",
    "}\n",
    "\n",
    "beam = {\n",
    "    'energy': 3000,\n",
    "    'sigma_x': 2000,\n",
    "    'sigma_y': 2000,\n",
    "    'loc_x': 0,\n",
    "    'loc_y': 0,\n",
    "    'x_disp': 0.01,\n",
    "    'y_disp': 0.01,\n",
    "    'nmb_particles': 20000\n",
    "}\n",
    "\n",
    "part_desc = np.dtype([\n",
    "        ('energy', float),\n",
    "        ('x_angle', float),\n",
    "        ('y_angle', float),\n",
    "        ('x', float),\n",
    "        ('y', float),\n",
    "        ('z', float)])\n",
    "\n",
    "hits_descr = np.dtype([\n",
    "        ('event_number', '<i8'),\n",
    "        ('frame', '<u2'),\n",
    "        ('column', float),\n",
    "        ('row', float),\n",
    "        ('charge', '<f4'),\n",
    "        ('timestamp', '<f4')])\n"
   ]
  },
  {
   "cell_type": "code",
   "execution_count": 3,
   "metadata": {},
   "outputs": [],
   "source": [
    "sim = simulate()\n",
    "hit_1, hit_2 = sim.simulate_hits([dut_1, dut_2], beam)\n",
    "folder = '/home/rasmus/Documents/pieces of interest/output_pytestbeam/'\n",
    "\n",
    "device.create_hit_file(hit_1, folder, 'first')\n",
    "device.create_hit_file(hit_2, folder, 'second')"
   ]
  },
  {
   "cell_type": "code",
   "execution_count": null,
   "metadata": {},
   "outputs": [],
   "source": []
  }
 ],
 "metadata": {
  "kernelspec": {
   "display_name": "master",
   "language": "python",
   "name": "python3"
  },
  "language_info": {
   "codemirror_mode": {
    "name": "ipython",
    "version": 3
   },
   "file_extension": ".py",
   "mimetype": "text/x-python",
   "name": "python",
   "nbconvert_exporter": "python",
   "pygments_lexer": "ipython3",
   "version": "3.11.5"
  }
 },
 "nbformat": 4,
 "nbformat_minor": 2
}
